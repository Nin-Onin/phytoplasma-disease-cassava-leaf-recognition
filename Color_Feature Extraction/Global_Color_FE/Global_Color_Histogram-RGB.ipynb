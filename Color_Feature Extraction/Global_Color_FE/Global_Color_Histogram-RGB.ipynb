{
 "cells": [
  {
   "cell_type": "code",
   "execution_count": null,
   "id": "e29a1f32-7611-4243-8901-f2739fafbbd0",
   "metadata": {},
   "outputs": [],
   "source": [
    "import cv2\n",
    "import numpy as np\n",
    "import os\n",
    "import pandas as pd\n",
    "\n",
    "def calculate_global_color_histogram(image_path, bins=256):\n",
    "    # Read the image\n",
    "    image = cv2.imread(image_path)\n",
    "    \n",
    "    # Convert image to RGB color space\n",
    "    rgb_image = cv2.cvtColor(image, cv2.COLOR_BGR2RGB)\n",
    "    \n",
    "    # Calculate histograms for each channel (Red, Green, Blue)\n",
    "    hist_red = cv2.calcHist([rgb_image], [0], None, [bins], [0, 256])\n",
    "    hist_green = cv2.calcHist([rgb_image], [1], None, [bins], [0, 256])\n",
    "    hist_blue = cv2.calcHist([rgb_image], [2], None, [bins], [0, 256])\n",
    "    \n",
    "    # Concatenate histograms\n",
    "    global_hist = np.concatenate((hist_red, hist_green, hist_blue), axis=None)\n",
    "    \n",
    "    # Normalize the histogram\n",
    "    global_hist /= global_hist.sum()\n",
    "    \n",
    "    return global_hist\n",
    "\n",
    "# Path to the dataset folders\n",
    "healthy_folder = \"datasets-B/healthy\"\n",
    "infected_folder = \"datasets-B/infected\"\n",
    "\n",
    "# Initialize lists to store features and labels\n",
    "features = []\n",
    "labels = []\n",
    "\n",
    "# Extract features for healthy images\n",
    "for filename in os.listdir(healthy_folder):\n",
    "    if filename.endswith(\".jpg\"):\n",
    "        image_path = os.path.join(healthy_folder, filename)\n",
    "        global_color_hist = calculate_global_color_histogram(image_path)\n",
    "        features.append(global_color_hist)\n",
    "        labels.append(\"healthy\")\n",
    "\n",
    "# Extract features for infected images\n",
    "for filename in os.listdir(infected_folder):\n",
    "    if filename.endswith(\".jpg\"):\n",
    "        image_path = os.path.join(infected_folder, filename)\n",
    "        global_color_hist = calculate_global_color_histogram(image_path)\n",
    "        features.append(global_color_hist)\n",
    "        labels.append(\"infected\")\n",
    "\n",
    "# Create a DataFrame to store features and labels\n",
    "df = pd.DataFrame(features)\n",
    "df[\"Label\"] = labels\n",
    "\n",
    "# Save the DataFrame to an Excel file\n",
    "df.to_excel(\"GCH-FeatureExtraction-RGB.xlsx\", index=False)\n"
   ]
  }
 ],
 "metadata": {
  "kernelspec": {
   "display_name": "Python 3 (ipykernel)",
   "language": "python",
   "name": "python3"
  },
  "language_info": {
   "codemirror_mode": {
    "name": "ipython",
    "version": 3
   },
   "file_extension": ".py",
   "mimetype": "text/x-python",
   "name": "python",
   "nbconvert_exporter": "python",
   "pygments_lexer": "ipython3",
   "version": "3.11.5"
  }
 },
 "nbformat": 4,
 "nbformat_minor": 5
}
