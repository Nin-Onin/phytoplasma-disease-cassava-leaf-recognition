{
 "cells": [
  {
   "cell_type": "code",
   "execution_count": 1,
   "id": "cde96c91-746d-4dc0-b7f8-0f92086072c8",
   "metadata": {},
   "outputs": [
    {
     "name": "stdout",
     "output_type": "stream",
     "text": [
      "Data saved to Color-MomentsFE-HSV.xlsx\n"
     ]
    }
   ],
   "source": [
    "import cv2\n",
    "import numpy as np\n",
    "import os\n",
    "import pandas as pd\n",
    "from scipy.stats import skew, kurtosis\n",
    "\n",
    "def color_moments(image):\n",
    "    # Convert the image to HSV color space\n",
    "    hsv_image = cv2.cvtColor(image, cv2.COLOR_BGR2HSV)\n",
    "    \n",
    "    # Split the channels\n",
    "    h, s, v = cv2.split(hsv_image)\n",
    "    \n",
    "    # Calculate the moments for each channel\n",
    "    h_mean = np.mean(h)\n",
    "    s_mean = np.mean(s)\n",
    "    v_mean = np.mean(v)\n",
    "    \n",
    "    h_std = np.std(h)\n",
    "    s_std = np.std(s)\n",
    "    v_std = np.std(v)\n",
    "    \n",
    "    h_skewness = skew(h.flatten())\n",
    "    s_skewness = skew(s.flatten())\n",
    "    v_skewness = skew(v.flatten())\n",
    "    \n",
    "    h_kurtosis = kurtosis(h.flatten())\n",
    "    s_kurtosis = kurtosis(s.flatten())\n",
    "    v_kurtosis = kurtosis(v.flatten())\n",
    "    \n",
    "    # Concatenate the moments into a feature vector\n",
    "    feature_vector = [h_mean, s_mean, v_mean, h_std, s_std, v_std, h_skewness, s_skewness, v_skewness, h_kurtosis, s_kurtosis, v_kurtosis]\n",
    "    \n",
    "    return feature_vector\n",
    "\n",
    "def process_images(folder_path):\n",
    "    feature_vectors = []\n",
    "    labels = []\n",
    "    for subdir, _, files in os.walk(folder_path):\n",
    "        for file in files:\n",
    "            file_path = os.path.join(subdir, file)\n",
    "            image = cv2.imread(file_path)\n",
    "            if image is not None:\n",
    "                feature_vector = color_moments(image)\n",
    "                feature_vectors.append(feature_vector)\n",
    "                if \"healthy\" in subdir:\n",
    "                    labels.append(\"healthy\")\n",
    "                elif \"infected\" in subdir:\n",
    "                    labels.append(\"infected\")\n",
    "    return feature_vectors, labels\n",
    "\n",
    "# Path to the dataset folders\n",
    "dataset_path = \"datasets-B\"\n",
    "\n",
    "# Process healthy datasets\n",
    "healthy_folder = os.path.join(dataset_path, \"healthy\")\n",
    "healthy_features, healthy_labels = process_images(healthy_folder)\n",
    "\n",
    "# Process infected datasets\n",
    "infected_folder = os.path.join(dataset_path, \"infected\")\n",
    "infected_features, infected_labels = process_images(infected_folder)\n",
    "\n",
    "# Combine features and labels\n",
    "all_features = healthy_features + infected_features\n",
    "all_labels = healthy_labels + infected_labels\n",
    "\n",
    "# Create a DataFrame\n",
    "df = pd.DataFrame(all_features, columns=[\"Hue_Mean\", \"Saturation_Mean\", \"Value_Mean\",\n",
    "                                         \"Hue_Std\", \"Saturation_Std\", \"Value_Std\",\n",
    "                                         \"Hue_Skewness\", \"Saturation_Skewness\", \"Value_Skewness\",\n",
    "                                         \"Hue_Kurtosis\", \"Saturation_Kurtosis\", \"Value_Kurtosis\"])\n",
    "df[\"Label\"] = all_labels\n",
    "\n",
    "# Save to Excel\n",
    "output_file = \"Color-MomentsFE-HSV.xlsx\"\n",
    "df.to_excel(output_file, index=False)\n",
    "print(\"Data saved to\", output_file)\n"
   ]
  },
  {
   "cell_type": "code",
   "execution_count": null,
   "id": "6c4dbea4-9350-4d2b-97f0-e1408e3477b1",
   "metadata": {},
   "outputs": [],
   "source": []
  }
 ],
 "metadata": {
  "kernelspec": {
   "display_name": "Python 3 (ipykernel)",
   "language": "python",
   "name": "python3"
  },
  "language_info": {
   "codemirror_mode": {
    "name": "ipython",
    "version": 3
   },
   "file_extension": ".py",
   "mimetype": "text/x-python",
   "name": "python",
   "nbconvert_exporter": "python",
   "pygments_lexer": "ipython3",
   "version": "3.11.5"
  }
 },
 "nbformat": 4,
 "nbformat_minor": 5
}
