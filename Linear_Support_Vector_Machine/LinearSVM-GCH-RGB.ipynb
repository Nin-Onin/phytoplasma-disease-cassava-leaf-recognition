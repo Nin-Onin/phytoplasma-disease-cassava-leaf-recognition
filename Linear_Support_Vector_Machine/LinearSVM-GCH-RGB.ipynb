{
 "cells": [
  {
   "cell_type": "markdown",
   "id": "cf3854b4-af82-4733-b267-dafc1eef4352",
   "metadata": {},
   "source": [
    "### Global Color Histogram - RGB\n",
    "### 60 % - Training,   40 % Testing"
   ]
  },
  {
   "cell_type": "code",
   "execution_count": 4,
   "id": "a405e2bf-a3f3-4352-8ef4-bf0d151eec7d",
   "metadata": {},
   "outputs": [
    {
     "name": "stderr",
     "output_type": "stream",
     "text": [
      "C:\\Users\\Onin\\AppData\\Local\\Programs\\Python\\Python311\\Lib\\site-packages\\sklearn\\svm\\_classes.py:31: FutureWarning: The default value of `dual` will change from `True` to `'auto'` in 1.5. Set the value of `dual` explicitly to suppress the warning.\n",
      "  warnings.warn(\n",
      "C:\\Users\\Onin\\AppData\\Local\\Programs\\Python\\Python311\\Lib\\site-packages\\sklearn\\svm\\_classes.py:31: FutureWarning: The default value of `dual` will change from `True` to `'auto'` in 1.5. Set the value of `dual` explicitly to suppress the warning.\n",
      "  warnings.warn(\n",
      "C:\\Users\\Onin\\AppData\\Local\\Programs\\Python\\Python311\\Lib\\site-packages\\sklearn\\svm\\_classes.py:31: FutureWarning: The default value of `dual` will change from `True` to `'auto'` in 1.5. Set the value of `dual` explicitly to suppress the warning.\n",
      "  warnings.warn(\n",
      "C:\\Users\\Onin\\AppData\\Local\\Programs\\Python\\Python311\\Lib\\site-packages\\sklearn\\svm\\_classes.py:31: FutureWarning: The default value of `dual` will change from `True` to `'auto'` in 1.5. Set the value of `dual` explicitly to suppress the warning.\n",
      "  warnings.warn(\n",
      "C:\\Users\\Onin\\AppData\\Local\\Programs\\Python\\Python311\\Lib\\site-packages\\sklearn\\svm\\_classes.py:31: FutureWarning: The default value of `dual` will change from `True` to `'auto'` in 1.5. Set the value of `dual` explicitly to suppress the warning.\n",
      "  warnings.warn(\n"
     ]
    },
    {
     "name": "stdout",
     "output_type": "stream",
     "text": [
      "Cross-Validation Scores: [0.97339983 0.97672485 0.9758936  0.98836243 0.96838602]\n",
      "Mean CV Accuracy: 0.9765533476347954\n"
     ]
    },
    {
     "name": "stderr",
     "output_type": "stream",
     "text": [
      "C:\\Users\\Onin\\AppData\\Local\\Programs\\Python\\Python311\\Lib\\site-packages\\sklearn\\svm\\_classes.py:31: FutureWarning: The default value of `dual` will change from `True` to `'auto'` in 1.5. Set the value of `dual` explicitly to suppress the warning.\n",
      "  warnings.warn(\n"
     ]
    },
    {
     "name": "stdout",
     "output_type": "stream",
     "text": [
      "Accuracy: 0.9887780548628429\n",
      "Precision: 0.9953076120959332\n",
      "Classification Report:\n",
      "              precision    recall  f1-score   support\n",
      "\n",
      "     healthy       0.98      1.00      0.99      2065\n",
      "    infected       1.00      0.98      0.99      1945\n",
      "\n",
      "    accuracy                           0.99      4010\n",
      "   macro avg       0.99      0.99      0.99      4010\n",
      "weighted avg       0.99      0.99      0.99      4010\n",
      "\n"
     ]
    }
   ],
   "source": [
    "import pandas as pd\n",
    "from sklearn.model_selection import train_test_split, cross_val_score\n",
    "from sklearn.svm import LinearSVC\n",
    "from sklearn.metrics import accuracy_score, precision_score, classification_report\n",
    "\n",
    "\n",
    "df = pd.read_excel(\"GCH-FeatureExtraction-RGB.xlsx\")\n",
    "\n",
    "\n",
    "X = df.drop(columns=[\"Label\"]).values\n",
    "y = df[\"Label\"].values\n",
    "\n",
    "# Split data into training and testing sets (60% training, 40% testing)\n",
    "X_train, X_test, y_train, y_test = train_test_split(X, y, test_size=0.4, random_state=42)\n",
    "\n",
    "\n",
    "svm_classifier = LinearSVC(random_state=42)\n",
    "\n",
    "\n",
    "cv_scores = cross_val_score(svm_classifier, X_train, y_train, cv=5) # 5-fold cross-validation\n",
    "\n",
    "\n",
    "print(\"Cross-Validation Scores:\", cv_scores)\n",
    "print(\"Mean CV Accuracy:\", cv_scores.mean())\n",
    "\n",
    "\n",
    "svm_classifier.fit(X_train, y_train)\n",
    "\n",
    "\n",
    "y_pred = svm_classifier.predict(X_test)\n",
    "\n",
    "\n",
    "accuracy = accuracy_score(y_test, y_pred)\n",
    "print(\"Accuracy:\", accuracy)\n",
    "\n",
    "\n",
    "precision = precision_score(y_test, y_pred, pos_label='infected')  # Pos label should be the class you want to calculate precision for\n",
    "print(\"Precision:\", precision)\n",
    "\n",
    "\n",
    "print(\"Classification Report:\")\n",
    "print(classification_report(y_test, y_pred))\n"
   ]
  },
  {
   "cell_type": "markdown",
   "id": "7c8d6424-751b-4e0d-871a-869a16526113",
   "metadata": {},
   "source": [
    "### Global Color Histogram - RGB\n",
    "### 50 % - Training,   50 % Testing"
   ]
  },
  {
   "cell_type": "code",
   "execution_count": 5,
   "id": "38419a51-cfcc-4eab-896b-a4c4c295a836",
   "metadata": {},
   "outputs": [
    {
     "name": "stderr",
     "output_type": "stream",
     "text": [
      "C:\\Users\\Onin\\AppData\\Local\\Programs\\Python\\Python311\\Lib\\site-packages\\sklearn\\svm\\_classes.py:31: FutureWarning: The default value of `dual` will change from `True` to `'auto'` in 1.5. Set the value of `dual` explicitly to suppress the warning.\n",
      "  warnings.warn(\n",
      "C:\\Users\\Onin\\AppData\\Local\\Programs\\Python\\Python311\\Lib\\site-packages\\sklearn\\svm\\_classes.py:31: FutureWarning: The default value of `dual` will change from `True` to `'auto'` in 1.5. Set the value of `dual` explicitly to suppress the warning.\n",
      "  warnings.warn(\n",
      "C:\\Users\\Onin\\AppData\\Local\\Programs\\Python\\Python311\\Lib\\site-packages\\sklearn\\svm\\_classes.py:31: FutureWarning: The default value of `dual` will change from `True` to `'auto'` in 1.5. Set the value of `dual` explicitly to suppress the warning.\n",
      "  warnings.warn(\n",
      "C:\\Users\\Onin\\AppData\\Local\\Programs\\Python\\Python311\\Lib\\site-packages\\sklearn\\svm\\_classes.py:31: FutureWarning: The default value of `dual` will change from `True` to `'auto'` in 1.5. Set the value of `dual` explicitly to suppress the warning.\n",
      "  warnings.warn(\n",
      "C:\\Users\\Onin\\AppData\\Local\\Programs\\Python\\Python311\\Lib\\site-packages\\sklearn\\svm\\_classes.py:31: FutureWarning: The default value of `dual` will change from `True` to `'auto'` in 1.5. Set the value of `dual` explicitly to suppress the warning.\n",
      "  warnings.warn(\n",
      "C:\\Users\\Onin\\AppData\\Local\\Programs\\Python\\Python311\\Lib\\site-packages\\sklearn\\svm\\_classes.py:31: FutureWarning: The default value of `dual` will change from `True` to `'auto'` in 1.5. Set the value of `dual` explicitly to suppress the warning.\n",
      "  warnings.warn(\n"
     ]
    },
    {
     "name": "stdout",
     "output_type": "stream",
     "text": [
      "Cross-Validation Scores: [0.97008973 0.96311067 0.9740519  0.97305389 0.96606786]\n",
      "Mean CV Accuracy: 0.96927481029964\n",
      "Accuracy: 0.981245011971269\n",
      "Precision: 0.9945193929173693\n",
      "Classification Report:\n",
      "              precision    recall  f1-score   support\n",
      "\n",
      "     healthy       0.97      0.99      0.98      2572\n",
      "    infected       0.99      0.97      0.98      2440\n",
      "\n",
      "    accuracy                           0.98      5012\n",
      "   macro avg       0.98      0.98      0.98      5012\n",
      "weighted avg       0.98      0.98      0.98      5012\n",
      "\n"
     ]
    }
   ],
   "source": [
    "import pandas as pd\n",
    "from sklearn.model_selection import train_test_split, cross_val_score\n",
    "from sklearn.svm import LinearSVC\n",
    "from sklearn.metrics import accuracy_score, precision_score, classification_report\n",
    "\n",
    "# Load the extracted features from the Excel file\n",
    "df = pd.read_excel(\"GCH-FeatureExtraction-RGB.xlsx\")\n",
    "\n",
    "# Split features and labels\n",
    "X = df.drop(columns=[\"Label\"]).values\n",
    "y = df[\"Label\"].values\n",
    "\n",
    "# Split data into training and testing sets (50% training, 50% testing)\n",
    "X_train, X_test, y_train, y_test = train_test_split(X, y, test_size=0.5, random_state=42)\n",
    "\n",
    "# Initialize the Linear SVM classifier\n",
    "svm_classifier = LinearSVC(random_state=42)\n",
    "\n",
    "# Perform Cross-Validation\n",
    "cv_scores = cross_val_score(svm_classifier, X_train, y_train, cv=5) # 5-fold cross-validation\n",
    "\n",
    "# Print cross-validation scores\n",
    "print(\"Cross-Validation Scores:\", cv_scores)\n",
    "print(\"Mean CV Accuracy:\", cv_scores.mean())\n",
    "\n",
    "# Train the model on the whole training data\n",
    "svm_classifier.fit(X_train, y_train)\n",
    "\n",
    "# Make predictions on the testing set\n",
    "y_pred = svm_classifier.predict(X_test)\n",
    "\n",
    "# Calculate accuracy\n",
    "accuracy = accuracy_score(y_test, y_pred)\n",
    "print(\"Accuracy:\", accuracy)\n",
    "\n",
    "# Calculate precision\n",
    "precision = precision_score(y_test, y_pred, pos_label='infected')  # Pos label should be the class you want to calculate precision for\n",
    "print(\"Precision:\", precision)\n",
    "\n",
    "# Print classification report\n",
    "print(\"Classification Report:\")\n",
    "print(classification_report(y_test, y_pred))\n"
   ]
  },
  {
   "cell_type": "markdown",
   "id": "b05fb239-c6fc-4f3d-92cd-185c7f1db9bf",
   "metadata": {},
   "source": [
    "### Global Color Histogram - RGB\n",
    "### 70 % - Training,   30 % Testing"
   ]
  },
  {
   "cell_type": "code",
   "execution_count": 8,
   "id": "c0029ce4-1665-45cf-8396-adbbce3e05fc",
   "metadata": {},
   "outputs": [
    {
     "name": "stderr",
     "output_type": "stream",
     "text": [
      "C:\\Users\\Onin\\AppData\\Local\\Programs\\Python\\Python311\\Lib\\site-packages\\sklearn\\svm\\_classes.py:31: FutureWarning: The default value of `dual` will change from `True` to `'auto'` in 1.5. Set the value of `dual` explicitly to suppress the warning.\n",
      "  warnings.warn(\n",
      "C:\\Users\\Onin\\AppData\\Local\\Programs\\Python\\Python311\\Lib\\site-packages\\sklearn\\svm\\_classes.py:31: FutureWarning: The default value of `dual` will change from `True` to `'auto'` in 1.5. Set the value of `dual` explicitly to suppress the warning.\n",
      "  warnings.warn(\n",
      "C:\\Users\\Onin\\AppData\\Local\\Programs\\Python\\Python311\\Lib\\site-packages\\sklearn\\svm\\_classes.py:31: FutureWarning: The default value of `dual` will change from `True` to `'auto'` in 1.5. Set the value of `dual` explicitly to suppress the warning.\n",
      "  warnings.warn(\n",
      "C:\\Users\\Onin\\AppData\\Local\\Programs\\Python\\Python311\\Lib\\site-packages\\sklearn\\svm\\_classes.py:31: FutureWarning: The default value of `dual` will change from `True` to `'auto'` in 1.5. Set the value of `dual` explicitly to suppress the warning.\n",
      "  warnings.warn(\n",
      "C:\\Users\\Onin\\AppData\\Local\\Programs\\Python\\Python311\\Lib\\site-packages\\sklearn\\svm\\_classes.py:31: FutureWarning: The default value of `dual` will change from `True` to `'auto'` in 1.5. Set the value of `dual` explicitly to suppress the warning.\n",
      "  warnings.warn(\n"
     ]
    },
    {
     "name": "stdout",
     "output_type": "stream",
     "text": [
      "Cross-Validation Scores: [0.98148148 0.97719173 0.97647897 0.98574483 0.97576622]\n",
      "Mean CV Accuracy: 0.9793326469734167\n"
     ]
    },
    {
     "name": "stderr",
     "output_type": "stream",
     "text": [
      "C:\\Users\\Onin\\AppData\\Local\\Programs\\Python\\Python311\\Lib\\site-packages\\sklearn\\svm\\_classes.py:31: FutureWarning: The default value of `dual` will change from `True` to `'auto'` in 1.5. Set the value of `dual` explicitly to suppress the warning.\n",
      "  warnings.warn(\n"
     ]
    },
    {
     "name": "stdout",
     "output_type": "stream",
     "text": [
      "Accuracy: 0.9900265957446809\n",
      "Precision: 0.9958419958419958\n",
      "Classification Report:\n",
      "              precision    recall  f1-score   support\n",
      "\n",
      "     healthy       0.98      1.00      0.99      1547\n",
      "    infected       1.00      0.98      0.99      1461\n",
      "\n",
      "    accuracy                           0.99      3008\n",
      "   macro avg       0.99      0.99      0.99      3008\n",
      "weighted avg       0.99      0.99      0.99      3008\n",
      "\n"
     ]
    }
   ],
   "source": [
    "import pandas as pd\n",
    "from sklearn.model_selection import train_test_split, cross_val_score\n",
    "from sklearn.svm import LinearSVC\n",
    "from sklearn.metrics import accuracy_score, precision_score, classification_report\n",
    "\n",
    "# Load the extracted features from the Excel file\n",
    "df = pd.read_excel(\"GCH-FeatureExtraction-RGB.xlsx\")\n",
    "\n",
    "# Split features and labels\n",
    "X = df.drop(columns=[\"Label\"]).values\n",
    "y = df[\"Label\"].values\n",
    "\n",
    "# Split data into training and testing sets 70% training, 30% testing)\n",
    "X_train, X_test, y_train, y_test = train_test_split(X, y, test_size=0.3, random_state=42)\n",
    "\n",
    "# Initialize the Linear SVM classifier\n",
    "svm_classifier = LinearSVC(random_state=42)\n",
    "\n",
    "# Perform Cross-Validation\n",
    "cv_scores = cross_val_score(svm_classifier, X_train, y_train, cv=5) # 5-fold cross-validation\n",
    "\n",
    "# Print cross-validation scores\n",
    "print(\"Cross-Validation Scores:\", cv_scores)\n",
    "print(\"Mean CV Accuracy:\", cv_scores.mean())\n",
    "\n",
    "# Train the model on the whole training data\n",
    "svm_classifier.fit(X_train, y_train)\n",
    "\n",
    "# Make predictions on the testing set\n",
    "y_pred = svm_classifier.predict(X_test)\n",
    "\n",
    "# Calculate accuracy\n",
    "accuracy = accuracy_score(y_test, y_pred)\n",
    "print(\"Accuracy:\", accuracy)\n",
    "\n",
    "# Calculate precision\n",
    "precision = precision_score(y_test, y_pred, pos_label='infected')  # Pos label should be the class you want to calculate precision for\n",
    "print(\"Precision:\", precision)\n",
    "\n",
    "# Print classification report\n",
    "print(\"Classification Report:\")\n",
    "print(classification_report(y_test, y_pred))\n"
   ]
  },
  {
   "cell_type": "code",
   "execution_count": 11,
   "id": "f801db6e-492c-4e78-9676-ef486227c096",
   "metadata": {},
   "outputs": [
    {
     "data": {
      "image/png": "[encoded data removed]",
      "text/plain": [
       "<Figure size 1200x800 with 1 Axes>"
      ]
     },
     "metadata": {},
     "output_type": "display_data"
    }
   ],
   "source": [
    "import matplotlib.pyplot as plt\n",
    "import numpy as np\n",
    "\n",
    "# Data\n",
    "ratios = ['50:50', '60:40', '70:30']\n",
    "accuracies = [97, 99, 99]\n",
    "precisions = [98, 99, 99]\n",
    "\n",
    "# Width of the bars\n",
    "bar_width = 0.35\n",
    "\n",
    "# Positions of the bars on the x-axis\n",
    "r1 = np.arange(len(accuracies))\n",
    "r2 = [x + bar_width for x in r1]\n",
    "\n",
    "# Plotting\n",
    "plt.figure(figsize=(12, 8))\n",
    "\n",
    "# Bar for Accuracy\n",
    "plt.bar(r1, accuracies, color='b', width=bar_width, edgecolor='grey', label='Accuracy')\n",
    "\n",
    "# Bar for Precision\n",
    "plt.bar(r2, precisions, color='r', width=bar_width, edgecolor='grey', label='Precision')\n",
    "\n",
    "# Adding labels and title\n",
    "plt.xlabel('Training-Testing Ratio')\n",
    "plt.ylabel('Score')\n",
    "plt.title('Performance using RGB Channel')\n",
    "plt.xticks([r + bar_width/2 for r in range(len(accuracies))], ratios)\n",
    "plt.legend()\n",
    "\n",
    "plt.show()\n"
   ]
  },
  {
   "cell_type": "code",
   "execution_count": null,
   "id": "e5c0be5a-a7be-426c-809f-ea0d6d4a95fe",
   "metadata": {},
   "outputs": [],
   "source": []
  }
 ],
 "metadata": {
  "kernelspec": {
   "display_name": "Python 3 (ipykernel)",
   "language": "python",
   "name": "python3"
  },
  "language_info": {
   "codemirror_mode": {
    "name": "ipython",
    "version": 3
   },
   "file_extension": ".py",
   "mimetype": "text/x-python",
   "name": "python",
   "nbconvert_exporter": "python",
   "pygments_lexer": "ipython3",
   "version": "3.11.5"
  }
 },
 "nbformat": 4,
 "nbformat_minor": 5
}
